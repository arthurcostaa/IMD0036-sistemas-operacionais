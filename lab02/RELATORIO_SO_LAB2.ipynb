{
  "cells": [
    {
      "cell_type": "markdown",
      "metadata": {
        "id": "r69NinaO5QKZ"
      },
      "source": [
        "# Sistemas Operacionais\n",
        "\n",
        "## Laboratório 02 - Threads e comunicação entre processos\n",
        "\n",
        "* Aluno: Arthur Emanuel Souza Cassiano da Costa\n",
        "* Turma: T03\n",
        "* Exercícios realizados: 1, 2, 4, 5"
      ]
    },
    {
      "cell_type": "markdown",
      "source": [
        "**Exercício 1**\n",
        "\n",
        "Modifique o código acima para fazer com que dois processos filhos alterem uma memória compartilhada contendo um inteiro. Faça o processo pai esperar por seus dois filhos para depois imprimir o valor da variável na tela. Dica: olhe o código do exercício 3 do Laboratório 1."
      ],
      "metadata": {
        "id": "OHRZwK4Y85Pb"
      }
    },
    {
      "cell_type": "code",
      "source": [
        "%%writefile exercicio01.c\n",
        "#include <stdio.h>\n",
        "#include <stdlib.h>\n",
        "#include <sys/types.h>\n",
        "#include <sys/wait.h>\n",
        "#include <unistd.h>\n",
        "#include <sys/shm.h>\n",
        "#include <sys/stat.h>\n",
        "\n",
        "int main() {\n",
        "    // Criando o segmento de memoria compartilhada com o tamanho de 1 int\n",
        "    int segment_id = shmget(IPC_PRIVATE, sizeof(int), S_IRUSR | S_IWUSR);\n",
        "\n",
        "    // Criando o ponteiro que vai apontar para o endereço de memória compartilhada\n",
        "    int *shared_memory;\n",
        "\n",
        "    // Anexando o segmento de memoria compartilhada ao processo pai\n",
        "    shared_memory = (int *) shmat(segment_id, NULL, 0);\n",
        "\n",
        "    // Gravando valor na memória compartilhada via processo pai\n",
        "    *shared_memory = 1;\n",
        "\n",
        "    printf(\"Valor inicial: %d\\n\", *shared_memory);\n",
        "\n",
        "    // Desanexando a memória compartilhada\n",
        "    shmdt(shared_memory);\n",
        "\n",
        "    // Processo filho\n",
        "    pid_t pid_filho = fork();\n",
        "\n",
        "    if (pid_filho < 0) {\n",
        "        printf(\"Sou o processo %d e não consegui criar o processo filho. T_T\\n\", getpid());\n",
        "        return 1;\n",
        "    } else if (pid_filho == 0) {\n",
        "        // Anexando o segmento de memoria compartilhada\n",
        "        shared_memory = (int *) shmat(segment_id, NULL, 0);\n",
        "\n",
        "        // Escrevendo na memória compartilhada via processo\n",
        "        *shared_memory += 1;\n",
        "\n",
        "        // Desanexando a memória compartilhada\n",
        "        shmdt(shared_memory);\n",
        "\n",
        "        // Processo neto\n",
        "        pid_t pid_neto = fork();\n",
        "\n",
        "        if (pid_neto < 0) {\n",
        "            printf(\"Sou o processo %d e não consegui criar o processo neto. T_T\\n\", getpid());\n",
        "            return 1;\n",
        "        } else if (pid_neto == 0) {\n",
        "            // Anexando o segmento de memoria compartilhada\n",
        "            shared_memory = (int *) shmat(segment_id, NULL, 0);\n",
        "\n",
        "            // Escrevendo na memória compartilhada\n",
        "            *shared_memory += 1;\n",
        "\n",
        "            // Desanexando a memória compartilhada\n",
        "            shmdt(shared_memory);\n",
        "\n",
        "            printf(\"Processo neto escreveu na memória compartilhada.\\n\");\n",
        "\n",
        "            // Encerrando o processo neto\n",
        "            exit(0);\n",
        "        } else {\n",
        "            printf(\"Processo filho escreveu na memória compartilhada.\\n\");\n",
        "\n",
        "            // Fazendo o processo filho esperar que o processo neto termine de escrever\n",
        "            wait(NULL);\n",
        "        }\n",
        "\n",
        "        // Encerrando o processo filho\n",
        "        exit(0);\n",
        "    } else {\n",
        "        printf(\"Processo pai escreveu na memória compartilhada.\\n\");\n",
        "\n",
        "        // Fazendo o processo pai esperar que o processo filho termine de escrever\n",
        "        wait(NULL);\n",
        "\n",
        "        // Salvando o ponteiro que aponta para a memória compartilhada\n",
        "        shared_memory = (int *) shmat(segment_id, NULL, 0);\n",
        "\n",
        "        // Imprimindo o valor da área de memória compartilhada após\n",
        "        // escritas feitas pelo processo filho e neto\n",
        "        printf(\"Valor final: %d\\n\", *shared_memory);\n",
        "\n",
        "        // Removendo o segmento de memória compartilhada\n",
        "        shmctl(segment_id, IPC_RMID, NULL);\n",
        "    }\n",
        "\n",
        "    return 0;\n",
        "}"
      ],
      "metadata": {
        "colab": {
          "base_uri": "https://localhost:8080/"
        },
        "id": "sR0akvKf88-4",
        "outputId": "02183ea6-40f2-493d-bd9a-424071b3f717"
      },
      "execution_count": 1,
      "outputs": [
        {
          "output_type": "stream",
          "name": "stdout",
          "text": [
            "Writing exercicio01.c\n"
          ]
        }
      ]
    },
    {
      "cell_type": "code",
      "source": [
        "!gcc ./exercicio01.c -o exercicio01\n",
        "!./exercicio01"
      ],
      "metadata": {
        "colab": {
          "base_uri": "https://localhost:8080/"
        },
        "id": "2yQJF9CX9Oqu",
        "outputId": "254a6ea3-6b7c-4bb1-c772-975948ecf425"
      },
      "execution_count": 2,
      "outputs": [
        {
          "output_type": "stream",
          "name": "stdout",
          "text": [
            "Valor inicial: 1\n",
            "Processo pai escreveu na memória compartilhada.\n",
            "Processo filho escreveu na memória compartilhada.\n",
            "Processo neto escreveu na memória compartilhada.\n",
            "Valor final: 3\n"
          ]
        }
      ]
    },
    {
      "cell_type": "markdown",
      "source": [
        "Nesse exercício, a variável teve inicialmente seu valor definido pelo processo pai para ser igual a `1`. Depois tanto o processo filho, quanto o processo neto incrementaram seu valor em uma unidade, portanto ao final da execução dos processos o valor da variável é `3`.\n",
        "\n",
        "---\n",
        "\n",
        "**Exercício 2**\n",
        "\n",
        "Utilizando comunicação entre processos, crie um código que escreva a Sequência de Fibonacci, com o parâmetro `n` sendo uma variável global. Tal sequência deve ser gerada por um processo filho, mas deve ser impressa na tela pelo processo pai. Dica: olhe o código do desafio do Laboratório 1."
      ],
      "metadata": {
        "id": "8jyLZp3T9VnL"
      }
    },
    {
      "cell_type": "code",
      "source": [
        "%%writefile exercicio02.c\n",
        "#include <stdio.h>\n",
        "#include <stdlib.h>\n",
        "#include <sys/types.h>\n",
        "#include <sys/wait.h>\n",
        "#include <unistd.h>\n",
        "#include <sys/shm.h>\n",
        "#include <sys/stat.h>\n",
        "\n",
        "int n = 20;\n",
        "\n",
        "int main() {\n",
        "    printf(\"Gerando os %d primeiros elementos da sequência de Fibonacci\\n\", n);\n",
        "    printf(\"utilizando processos e área de memória compartilhada.\\n\\n\");\n",
        "\n",
        "    /* O processo filho fica responsável por gravar a sequência de Fibonacci\n",
        "    na área de memória compartilhada. Enquanto que o processo pai faz a leitura\n",
        "    da área de memória compartilhada e a imprime na tela.\n",
        "    */\n",
        "\n",
        "    // Criando o segmento de memoria compartilhada com o tamanho de n ints\n",
        "    // para armazenar a sequencia de Fibonacci\n",
        "    int segment_id = shmget(IPC_PRIVATE, n * sizeof(char), S_IRUSR | S_IWUSR);\n",
        "\n",
        "    // Criando o ponteiro que vai apontar para o endereço de memória compartilhada\n",
        "    int *shared_memory;\n",
        "\n",
        "    pid_t pid = fork();\n",
        "\n",
        "    if (pid < 0) {\n",
        "        printf(\"Sou o processo %d e não consegui criar um novo processo.\\n\", getpid());\n",
        "        return 1;\n",
        "    } else if (pid == 0) {\n",
        "        // Anexando o segmento de memoria compartilhada\n",
        "        shared_memory = (int *) shmat(segment_id, NULL, 0);\n",
        "\n",
        "        if (n == 1) {\n",
        "            shared_memory[0] = 1;\n",
        "        } else if (n == 2) {\n",
        "            shared_memory[0] = 1;\n",
        "            shared_memory[1] = 1;\n",
        "        } else {\n",
        "            shared_memory[0] = 1;\n",
        "            shared_memory[1] = 1;\n",
        "            for (int i = 2; i < n; i++) {\n",
        "                shared_memory[i] = shared_memory[i - 1] + shared_memory[i - 2];\n",
        "            }\n",
        "        }\n",
        "\n",
        "        // Desanexando a memória compartilhada\n",
        "        shmdt(shared_memory);\n",
        "\n",
        "        // Encerrando o processo filho\n",
        "        exit(0);\n",
        "    } else {\n",
        "        // Fazendo o pai esperar que o filho termine de escrever os valores\n",
        "        // na área de memória compartilhada\n",
        "        wait(NULL);\n",
        "\n",
        "        // Salvando o ponteiro que aponta para a memória compartilhada\n",
        "        shared_memory = (int *) shmat(segment_id, NULL, 0);\n",
        "\n",
        "        // Imprimindo conteúdo deixado pelo processo filho\n",
        "        // na área de memória compartilhada\n",
        "        for (int i = 0; i < n; i++) {\n",
        "            printf(\"%d \", shared_memory[i]);\n",
        "        }\n",
        "        printf(\"\\n\");\n",
        "\n",
        "        // Removendo o segmento de memória compartilhada\n",
        "        shmctl(segment_id, IPC_RMID, NULL);\n",
        "    }\n",
        "\n",
        "    return 0;\n",
        "}"
      ],
      "metadata": {
        "colab": {
          "base_uri": "https://localhost:8080/"
        },
        "id": "hMUlgTI3-d2U",
        "outputId": "3e12be42-999f-411f-fddc-198a5e1db2ad"
      },
      "execution_count": 11,
      "outputs": [
        {
          "output_type": "stream",
          "name": "stdout",
          "text": [
            "Overwriting exercicio02.c\n"
          ]
        }
      ]
    },
    {
      "cell_type": "code",
      "source": [
        "!gcc ./exercicio02.c -o exercicio02\n",
        "!./exercicio02"
      ],
      "metadata": {
        "colab": {
          "base_uri": "https://localhost:8080/"
        },
        "id": "uvNWJ-cO-kKq",
        "outputId": "5cb7640c-0f70-4ba4-e475-618f59b5c984"
      },
      "execution_count": 12,
      "outputs": [
        {
          "output_type": "stream",
          "name": "stdout",
          "text": [
            "Gerando os 20 primeiros elementos da sequência de Fibonacci\n",
            "utilizando processos e área de memória compartilhada.\n",
            "\n",
            "1 1 2 3 5 8 13 21 34 55 89 144 233 377 610 987 1597 2584 4181 6765 \n"
          ]
        }
      ]
    },
    {
      "cell_type": "markdown",
      "metadata": {
        "id": "wFGKRfikJdBT"
      },
      "source": [
        "**Exercício 4**\n",
        "\n",
        "Comente a linha `pthread_join(threads[i],NULL)` no código acima e veja o que acontece. Qual o motivo da mudança no output? Faça modificações no código para obter novamente a saída original sem necessitar usar um `threads_join`. Dica: threads também podem dormir."
      ]
    },
    {
      "cell_type": "markdown",
      "source": [
        "**Primeira parte**: executando o código sem o trecho `pthread_join(threads[i], NULL)`."
      ],
      "metadata": {
        "id": "InqGCSniGLWG"
      }
    },
    {
      "cell_type": "code",
      "source": [
        "%%writefile exercicio04-parte01.c\n",
        "#include <pthread.h>\n",
        "#include <stdio.h>\n",
        "#include <stdlib.h>\n",
        "#include <sys/types.h>\n",
        "#include <sys/wait.h>\n",
        "#include <sys/shm.h>\n",
        "#include <sys/stat.h>\n",
        "#include <unistd.h>\n",
        "\n",
        "int number_of_threads = 5;\n",
        "\n",
        "// Função usada pelas threads para dizer 'Olá!'\n",
        "void *print_hello(void *tid) {\n",
        "    printf(\"Olá, eu sou a thread %d.\\n\", (int)(size_t) tid);\n",
        "    pthread_exit(NULL);\n",
        "}\n",
        "\n",
        "int main() {\n",
        "    pthread_t threads[number_of_threads];\n",
        "\n",
        "    for (int i = 0; i < number_of_threads; i++) {\n",
        "        // Criando uma thread e passando para ela a função print_hello\n",
        "        int status = pthread_create(&threads[i], NULL, print_hello, (void *)(size_t) i);\n",
        "\n",
        "        if (status != 0) {\n",
        "            printf(\"Erro na criação da thread %d. Código de erro: %d\\n\", i, status);\n",
        "            return 1;\n",
        "        }\n",
        "\n",
        "        // Faz a thread principal esperar pela thread filha. Similar a funcao wait.\n",
        "        // pthread_join(threads[i], NULL);\n",
        "    }\n",
        "\n",
        "    return 0;\n",
        "}"
      ],
      "metadata": {
        "colab": {
          "base_uri": "https://localhost:8080/"
        },
        "id": "vHT9fDwd_wi6",
        "outputId": "156efe72-2196-4a4a-f5ed-8d79f36a7439"
      },
      "execution_count": 18,
      "outputs": [
        {
          "output_type": "stream",
          "name": "stdout",
          "text": [
            "Overwriting exercicio04-parte01.c\n"
          ]
        }
      ]
    },
    {
      "cell_type": "code",
      "source": [
        "!gcc exercicio04-parte01.c -o exercicio04-parte01\n",
        "!./exercicio04"
      ],
      "metadata": {
        "colab": {
          "base_uri": "https://localhost:8080/"
        },
        "id": "J34XT6ll__XA",
        "outputId": "c097669d-caf1-41a0-9e98-4892929afb0d"
      },
      "execution_count": 20,
      "outputs": [
        {
          "output_type": "stream",
          "name": "stdout",
          "text": [
            "Olá, eu sou a thread 0.\n",
            "Olá, eu sou a thread 1.\n",
            "Olá, eu sou a thread 2.\n",
            "Olá, eu sou a thread 3.\n",
            "Olá, eu sou a thread 4.\n"
          ]
        }
      ]
    },
    {
      "cell_type": "markdown",
      "source": [
        "Ao executar o código com o trecho `pthread_join(threads[i], NULL)` comentado no Google Colab aconteceu algo bastante interessante. A execução das threads ocorreu de forma sequencial e todas as threads foram executadas e tiveram sua mensagem exibida. Entretanto, ao executar o código em minha máquina percebi que a ordem de execução das threads mudavam, não era necessariamente do 0 ao 4, e nem todas as 5 threads eram executadas, conforme mostra as várias execuções na imagem abaixo:\n",
        "\n",
        "![execucao-exercicio04.png](data:image/png;base64,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)"
      ],
      "metadata": {
        "id": "ObroiNKrAo-i"
      }
    },
    {
      "cell_type": "markdown",
      "source": [
        "Isso provavelmente ocorreu porque as threads foram criadas dentro do `for` loop e não foram escalonadas de forma sequencial. E como o `pthread_join` foi removido do código, o programa não espera que as threads terminem a sua execução, então provavelmente as threads são criadas e a thread principal continua a execução da função `main` que deve chegar na última linha onde há o `return 0` que finaliza o programa e consequentemente todas as threads criadas.\n",
        "\n",
        "O código asseguir mostra uma solução para esse problema usando a chamada de sistema `sleep`:"
      ],
      "metadata": {
        "id": "Y2NxF9LUB42K"
      }
    },
    {
      "cell_type": "markdown",
      "source": [
        "**Segunda parte**: executando o código com o `sleep`"
      ],
      "metadata": {
        "id": "KnBVq2UUGO_8"
      }
    },
    {
      "cell_type": "code",
      "source": [
        "%%writefile exercicio04-parte02.c\n",
        "#include <pthread.h>\n",
        "#include <stdio.h>\n",
        "#include <stdlib.h>\n",
        "#include <sys/types.h>\n",
        "#include <sys/wait.h>\n",
        "#include <sys/shm.h>\n",
        "#include <sys/stat.h>\n",
        "#include <unistd.h>\n",
        "\n",
        "int number_of_threads = 5;\n",
        "\n",
        "// Função usada pelas threads para dizer 'Olá!'\n",
        "void *print_hello(void *tid) {\n",
        "    printf(\"Olá, eu sou a thread %d.\\n\", (int)(size_t) tid);\n",
        "    pthread_exit(NULL);\n",
        "}\n",
        "\n",
        "int main() {\n",
        "    pthread_t threads[number_of_threads];\n",
        "\n",
        "    for (int i = 0; i < number_of_threads; i++) {\n",
        "        // Criando uma thread e passando para ela a função print_hello\n",
        "        int status = pthread_create(&threads[i], NULL, print_hello, (void *)(size_t) i);\n",
        "\n",
        "        if (status != 0) {\n",
        "            printf(\"Erro na criação da thread %d. Código de erro: %d\\n\", i, status);\n",
        "            return 1;\n",
        "        }\n",
        "\n",
        "        sleep(1);\n",
        "\n",
        "        // Faz a thread principal esperar pela thread filha. Similar a funcao wait.\n",
        "        // pthread_join(threads[i], NULL);\n",
        "    }\n",
        "\n",
        "    return 0;\n",
        "}"
      ],
      "metadata": {
        "colab": {
          "base_uri": "https://localhost:8080/"
        },
        "id": "PXhFBTiEDCxh",
        "outputId": "92d868d6-ae9b-4210-a136-d200dc792c20"
      },
      "execution_count": 21,
      "outputs": [
        {
          "output_type": "stream",
          "name": "stdout",
          "text": [
            "Writing exercicio04-parte02.c\n"
          ]
        }
      ]
    },
    {
      "cell_type": "code",
      "source": [
        "!gcc exercicio04-parte02.c -o exercicio04-parte02\n",
        "!./exercicio04-parte02"
      ],
      "metadata": {
        "colab": {
          "base_uri": "https://localhost:8080/"
        },
        "id": "c7x5yopLDLuP",
        "outputId": "36acfab3-066f-4d11-a2dd-65865e3c2e8f"
      },
      "execution_count": 22,
      "outputs": [
        {
          "output_type": "stream",
          "name": "stdout",
          "text": [
            "Olá, eu sou a thread 0.\n",
            "Olá, eu sou a thread 1.\n",
            "Olá, eu sou a thread 2.\n",
            "Olá, eu sou a thread 3.\n",
            "Olá, eu sou a thread 4.\n"
          ]
        }
      ]
    },
    {
      "cell_type": "markdown",
      "source": [
        "Agora todas as threads são executadas e a execução ocorre de forma sequencial com uma pausa de 1 segundo entre elas.\n",
        "\n",
        "Obs.: esse resultado também foi obtido localmente."
      ],
      "metadata": {
        "id": "y-hkBwCyDQhv"
      }
    },
    {
      "cell_type": "markdown",
      "metadata": {
        "id": "XsEpk45uxbOp"
      },
      "source": [
        "**Exercício 5**\n",
        "\n",
        "Refaça o exercício 2 usando threads."
      ]
    },
    {
      "cell_type": "code",
      "source": [
        "%%writefile exercicio05.c\n",
        "#include <pthread.h>\n",
        "#include <stdio.h>\n",
        "#include <stdlib.h>\n",
        "#include <sys/types.h>\n",
        "#include <sys/wait.h>\n",
        "#include <sys/shm.h>\n",
        "#include <sys/stat.h>\n",
        "#include <unistd.h>\n",
        "\n",
        "#define n 15\n",
        "\n",
        "int number_of_threads = n;\n",
        "int fib[n];\n",
        "\n",
        "void *calcular_fibonacci(void *tid) {\n",
        "    size_t i = (size_t) tid;\n",
        "\n",
        "    if (i == 0) {\n",
        "        fib[0] = 1;\n",
        "    } else if (i == 1) {\n",
        "        fib[1] = 1;\n",
        "    } else {\n",
        "        fib[i] = fib[i - 1] + fib[i - 2];\n",
        "    }\n",
        "\n",
        "    pthread_exit(NULL);\n",
        "}\n",
        "\n",
        "void *mostrar_valor(void *tid) {\n",
        "    printf(\"%d \", fib[(size_t) tid]);\n",
        "    pthread_exit(NULL);\n",
        "}\n",
        "\n",
        "int main() {\n",
        "    printf(\"Primeiro %d termos da sequência de Fibonacci criados usando threads.\\n\\n\", n);\n",
        "    pthread_t threads[number_of_threads];\n",
        "\n",
        "    // Criando threads para calcular a sequência de fibonacci\n",
        "    for (int i = 0; i < number_of_threads; i++) {\n",
        "        int status = pthread_create(&threads[i], NULL, calcular_fibonacci, (void *)(size_t) i);\n",
        "\n",
        "        if (status != 0) {\n",
        "            printf(\"Erro na criação da thread %d. Código de erro %d.\", i, status);\n",
        "            return 1;\n",
        "        }\n",
        "\n",
        "        pthread_join(threads[i], NULL);\n",
        "    }\n",
        "\n",
        "    // Criando threads para mostrar os elementos da sequência de fibonacci\n",
        "    // que foram criados anteriormente\n",
        "    for (int i = 0; i < number_of_threads; i++) {\n",
        "        int status = pthread_create(&threads[i], NULL, mostrar_valor, (void *)(size_t) i);\n",
        "\n",
        "        if (status != 0) {\n",
        "            printf(\"Erro na criação da thread %d. Código de erro %d.\", i, status);\n",
        "            return 1;\n",
        "        }\n",
        "\n",
        "        pthread_join(threads[i], NULL);\n",
        "    }\n",
        "\n",
        "    printf(\"\\n\");\n",
        "\n",
        "    return 0;\n",
        "}"
      ],
      "metadata": {
        "colab": {
          "base_uri": "https://localhost:8080/"
        },
        "id": "2wlX50WiE-7Y",
        "outputId": "05e6cfa4-9b57-43f7-c75d-d4c59e9ddfca"
      },
      "execution_count": 25,
      "outputs": [
        {
          "output_type": "stream",
          "name": "stdout",
          "text": [
            "Overwriting exercicio05.c\n"
          ]
        }
      ]
    },
    {
      "cell_type": "code",
      "source": [
        "!gcc exercicio05.c -o exercicio05\n",
        "!./exercicio05"
      ],
      "metadata": {
        "colab": {
          "base_uri": "https://localhost:8080/"
        },
        "id": "ZLR60VPQFGH3",
        "outputId": "19dec336-790d-40fd-e7d1-ec19b21a3a79"
      },
      "execution_count": 26,
      "outputs": [
        {
          "output_type": "stream",
          "name": "stdout",
          "text": [
            "Primeiro 15 termos da sequência de Fibonacci criados usando threads.\n",
            "\n",
            "1 1 2 3 5 8 13 21 34 55 89 144 233 377 610 \n"
          ]
        }
      ]
    },
    {
      "cell_type": "markdown",
      "source": [
        "Obs.: Foi utilizado a macro `#define n 15`, pois o compilador não permitiu criar uma variável global com `int n = 15` e usar essa variável como o tamanho do array em `int fib[n]`."
      ],
      "metadata": {
        "id": "pRqXPYc6FkJc"
      }
    }
  ],
  "metadata": {
    "colab": {
      "provenance": []
    },
    "kernelspec": {
      "display_name": "Python 3 (ipykernel)",
      "language": "python",
      "name": "python3"
    },
    "language_info": {
      "codemirror_mode": {
        "name": "ipython",
        "version": 3
      },
      "file_extension": ".py",
      "mimetype": "text/x-python",
      "name": "python",
      "nbconvert_exporter": "python",
      "pygments_lexer": "ipython3",
      "version": "3.12.4"
    }
  },
  "nbformat": 4,
  "nbformat_minor": 0
}